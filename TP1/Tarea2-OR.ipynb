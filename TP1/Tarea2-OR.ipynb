{
  "nbformat": 4,
  "nbformat_minor": 0,
  "metadata": {
    "colab": {
      "provenance": [],
      "authorship_tag": "ABX9TyPG4HyxSN3FKkCQQVC6uhm4",
      "include_colab_link": true
    },
    "kernelspec": {
      "name": "python3",
      "display_name": "Python 3"
    },
    "language_info": {
      "name": "python"
    }
  },
  "cells": [
    {
      "cell_type": "markdown",
      "metadata": {
        "id": "view-in-github",
        "colab_type": "text"
      },
      "source": [
        "<a href=\"https://colab.research.google.com/github/jaredms-bit/McCullockPitts/blob/main/TP1/Tarea2-OR.ipynb\" target=\"_parent\"><img src=\"https://colab.research.google.com/assets/colab-badge.svg\" alt=\"Open In Colab\"/></a>"
      ]
    },
    {
      "cell_type": "code",
      "execution_count": 5,
      "metadata": {
        "colab": {
          "base_uri": "https://localhost:8080/"
        },
        "id": "MDpdF54lfnyO",
        "outputId": "f2378f01-1fc1-4383-f952-434357ac4159"
      },
      "outputs": [
        {
          "output_type": "stream",
          "name": "stdout",
          "text": [
            "--- Proceso de Cálculo ---\n",
            "Pesos (W): [1 1], Umbral (Umbral): 1\n",
            "\n",
            "Input: [0 0], Suma Ponderada (W*X): 0\n",
            "Resultado (Suma >= Umbral(1)?): 0\n",
            "-----------------------------------\n",
            "Input: [0 1], Suma Ponderada (W*X): 1\n",
            "Resultado (Suma >= Umbral(1)?): 1\n",
            "-----------------------------------\n",
            "Input: [1 0], Suma Ponderada (W*X): 1\n",
            "Resultado (Suma >= Umbral(1)?): 1\n",
            "-----------------------------------\n",
            "Input: [1 1], Suma Ponderada (W*X): 2\n",
            "Resultado (Suma >= Umbral(1)?): 1\n",
            "-----------------------------------\n",
            "\n",
            "--- Resultado Final ---\n",
            "Entradas (X):\n",
            " [[0 0]\n",
            " [0 1]\n",
            " [1 0]\n",
            " [1 1]]\n",
            "Salidas Esperadas (Y): [0 1 1 1]\n",
            "Predicciones: [0, 1, 1, 1]\n",
            "\n",
            "✅ ¡La Neurona MCP implementa correctamente la compuerta OR!\n"
          ]
        }
      ],
      "source": [
        "import numpy as np\n",
        "\n",
        "# --- Definición de Entradas y Parámetros (Compuerta OR) ---\n",
        "\n",
        "# Entradas para la neurona (todas las combinaciones de dos bits)\n",
        "X = np.array([\n",
        "    [0, 0],\n",
        "    [0, 1],\n",
        "    [1, 0],\n",
        "    [1, 1]\n",
        "])\n",
        "# Salidas esperadas para OR (Solo 0 si ambas entradas son 0)\n",
        "Y = np.array([0, 1, 1, 1])\n",
        "\n",
        "# Pesos para las entradas: Ambos son 1 (W1=1, W2=1)\n",
        "W = [1, 1]\n",
        "\n",
        "# Umbral para la función de activación:\n",
        "# La neurona se activa (salida 1) si la suma ponderada es 1 o mayor.\n",
        "umbral = 1\n",
        "\n",
        "# --- Clase de la Neurona de McCulloch-Pitts ---\n",
        "\n",
        "class McCullochPitts:\n",
        "    # CORREGIDO: El constructor debe llamarse __init__ (doble guion bajo)\n",
        "    def __init__(self, weights, umbral):\n",
        "        \"\"\"\n",
        "        Constructor de la neurona MCP.\n",
        "        Guarda las variables:\n",
        "        weights -> vector de pesos iniciales\n",
        "        umbral -> umbral para usar en la funcion de activación\n",
        "        \"\"\"\n",
        "        self.weights = np.array(weights) # Aseguramos que sea un array de numpy\n",
        "        self.umbral = umbral\n",
        "\n",
        "    def predict(self, X):\n",
        "        \"\"\"\n",
        "        Calcula la salida de la neurona para cada fila de entradas X.\n",
        "        \"\"\"\n",
        "        # Lista donde se guardarán las salidas\n",
        "        predictions = []\n",
        "        print(\"--- Proceso de Cálculo ---\")\n",
        "        print(f\"Pesos (W): {self.weights}, Umbral (Umbral): {self.umbral}\\n\")\n",
        "\n",
        "        # Recorremos cada fila de entradas\n",
        "        for i in range(X.shape[0]):\n",
        "            input_data = X[i]\n",
        "            # Calculamos la suma ponderada: w1*x1 + w2*x2\n",
        "            weighted_sum = np.dot(self.weights, input_data)\n",
        "\n",
        "            # Mostramos en consola la entrada y la suma ponderada\n",
        "            print(f\"Input: {input_data}, Suma Ponderada (W*X): {weighted_sum}\")\n",
        "\n",
        "            # Función de Activación (Escalón):\n",
        "            # Compara si la suma ponderada es mayor o igual al umbral\n",
        "            if weighted_sum >= self.umbral:\n",
        "                predictions.append(1)\n",
        "            else:\n",
        "                predictions.append(0)\n",
        "\n",
        "            print(f\"Resultado (Suma >= Umbral({self.umbral})?): {predictions[-1]}\")\n",
        "            print(\"-\" * 35)\n",
        "\n",
        "        return predictions\n",
        "\n",
        "# --- Ejecución y Verificación ---\n",
        "\n",
        "# Instanciamos la clase McCullochPitts\n",
        "mcp = McCullochPitts(W, umbral)\n",
        "\n",
        "# Calculamos las predicciones\n",
        "predictions = mcp.predict(X)\n",
        "\n",
        "# Mostramos el resultado final\n",
        "print(\"\\n--- Resultado Final ---\")\n",
        "print(\"Entradas (X):\\n\", X)\n",
        "print(\"Salidas Esperadas (Y):\", Y)\n",
        "print(\"Predicciones:\", predictions)\n",
        "\n",
        "# Verificamos si la neurona implementa correctamente la compuerta OR\n",
        "if np.array_equal(predictions, Y):\n",
        "    print(\"\\n✅ ¡La Neurona MCP implementa correctamente la compuerta OR!\")\n",
        "else:\n",
        "    print(\"\\n❌ Hay un error en las predicciones.\")"
      ]
    }
  ]
}