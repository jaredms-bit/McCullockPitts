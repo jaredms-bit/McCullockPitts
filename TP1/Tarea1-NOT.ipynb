{
  "nbformat": 4,
  "nbformat_minor": 0,
  "metadata": {
    "colab": {
      "provenance": [],
      "authorship_tag": "ABX9TyPojyfC7ZyxyEoEE2pTdUL5",
      "include_colab_link": true
    },
    "kernelspec": {
      "name": "python3",
      "display_name": "Python 3"
    },
    "language_info": {
      "name": "python"
    }
  },
  "cells": [
    {
      "cell_type": "markdown",
      "metadata": {
        "id": "view-in-github",
        "colab_type": "text"
      },
      "source": [
        "<a href=\"https://colab.research.google.com/github/jaredms-bit/McCullockPitts/blob/main/TP1/Tarea1-NOT.ipynb\" target=\"_parent\"><img src=\"https://colab.research.google.com/assets/colab-badge.svg\" alt=\"Open In Colab\"/></a>"
      ]
    },
    {
      "cell_type": "code",
      "execution_count": null,
      "metadata": {
        "colab": {
          "base_uri": "https://localhost:8080/"
        },
        "id": "MDpdF54lfnyO",
        "outputId": "5d023691-137f-4db2-9e50-fff8135e5ca3"
      },
      "outputs": [
        {
          "output_type": "stream",
          "name": "stdout",
          "text": [
            "--- Proceso de Cálculo ---\n",
            "Input: 0, Suma Ponderada (W*X): 0\n",
            "Resultado (Suma >= Umbral(0)?): 1\n",
            "-------------------------\n",
            "Input: 1, Suma Ponderada (W*X): -1\n",
            "Resultado (Suma >= Umbral(0)?): 0\n",
            "-------------------------\n",
            "\n",
            "--- Resultado Final ---\n",
            "Entradas (X):   [0 1]\n",
            "Salidas Esperadas (Y): [1 0]\n",
            "Predicciones: [1, 0]\n",
            "\n",
            "✅ ¡La Neurona MCP implementa correctamente la compuerta NOT!\n"
          ]
        }
      ],
      "source": [
        "import numpy as np\n",
        "\n",
        "# --- Definición de Entradas y Parámetros ---\n",
        "\n",
        "# Entradas para la neurona (una sola entrada para NOT)\n",
        "# X = [[0], [1]]\n",
        "X = np.array([\n",
        "    [0],\n",
        "    [1]\n",
        "])\n",
        "# Salidas esperadas para NOT\n",
        "Y = np.array([1, 0])\n",
        "\n",
        "# Peso para la entrada:\n",
        "# Usamos -1 para invertir la señal (0*(-1)=0, 1*(-1)=-1)\n",
        "W = [-1]\n",
        "\n",
        "# Umbral para la función de activación:\n",
        "# Con un umbral de 0, la suma ponderada será:\n",
        "# - Para Input 0: Suma = 0 >= 0 (Activa -> 1)\n",
        "# - Para Input 1: Suma = -1 < 0 (No activa -> 0)\n",
        "umbral = 0\n",
        "\n",
        "# --- Clase de la Neurona de McCulloch-Pitts ---\n",
        "\n",
        "class McCullochPitts:\n",
        "    # CORREGIDO: Usar __init__ (doble guion bajo)\n",
        "    def __init__(self, weights, umbral):\n",
        "        \"\"\"\n",
        "        Constructor de la neurona MCP.\n",
        "        Guarda las variables:\n",
        "        weights -> vector de pesos iniciales\n",
        "        umbral -> umbral para usar en la funcion de activación\n",
        "        \"\"\"\n",
        "        self.weights = np.array(weights) # Aseguramos que sea un array de numpy\n",
        "        self.umbral = umbral\n",
        "\n",
        "    def predict(self, X):\n",
        "        \"\"\"\n",
        "        Calcula la salida de la neurona para cada fila de entradas X.\n",
        "        \"\"\"\n",
        "        # Lista donde se guardarán las salidas\n",
        "        predictions = []\n",
        "        print(\"--- Proceso de Cálculo ---\")\n",
        "        # Recorremos cada fila de entradas\n",
        "        for i in range(X.shape[0]):\n",
        "            input_data = X[i]\n",
        "            # Calculamos la suma ponderada: w * x\n",
        "            # np.dot calcula el producto punto: [-1] . [x_i] = -1 * x_i\n",
        "            weighted_sum = np.dot(self.weights, input_data)\n",
        "\n",
        "            # Mostramos en consola la entrada y la suma ponderada\n",
        "            print(f\"Input: {input_data[0]}, Suma Ponderada (W*X): {weighted_sum}\")\n",
        "\n",
        "            # Función de Activación (Escalón/Heaviside):\n",
        "            # Compara con el umbral (theta) para determinar si la neurona se activa (1) o no (0)\n",
        "            if weighted_sum >= self.umbral:\n",
        "                predictions.append(1)\n",
        "            else:\n",
        "                predictions.append(0)\n",
        "\n",
        "            print(f\"Resultado (Suma >= Umbral({self.umbral})?): {predictions[-1]}\")\n",
        "            print(\"-\" * 25)\n",
        "\n",
        "        return predictions\n",
        "\n",
        "# --- Ejecución y Verificación ---\n",
        "\n",
        "# Instanciamos la clase McCullochPitts\n",
        "mcp = McCullochPitts(W, umbral)\n",
        "\n",
        "# Calculamos las predicciones\n",
        "predictions = mcp.predict(X)\n",
        "\n",
        "# Mostramos el resultado final\n",
        "print(\"\\n--- Resultado Final ---\")\n",
        "print(\"Entradas (X):  \", X.flatten())\n",
        "print(\"Salidas Esperadas (Y):\", Y)\n",
        "print(\"Predicciones:\", predictions)\n",
        "\n",
        "# Verificamos si la neurona implementa correctamente la compuerta NOT\n",
        "if np.array_equal(predictions, Y):\n",
        "    print(\"\\n✅ ¡La Neurona MCP implementa correctamente la compuerta NOT!\")\n",
        "else:\n",
        "    print(\"\\n❌ Hay un error en las predicciones.\")"
      ]
    }
  ]
}